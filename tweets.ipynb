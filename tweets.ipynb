{
 "cells": [
  {
   "cell_type": "code",
   "execution_count": 1,
   "id": "c9c24c7f-c962-4df2-afba-c81373f91d23",
   "metadata": {},
   "outputs": [],
   "source": [
    "import pandas as pd"
   ]
  },
  {
   "cell_type": "code",
   "execution_count": 5,
   "id": "9787075a-9f6e-4d03-b034-60e2150c711e",
   "metadata": {},
   "outputs": [],
   "source": [
    "df=pd.read_csv('tweets.csv',low_memory=False)"
   ]
  },
  {
   "cell_type": "code",
   "execution_count": 7,
   "id": "31ed0cff-356b-42a8-9c96-fc78f8e29754",
   "metadata": {},
   "outputs": [
    {
     "data": {
      "text/html": [
       "<div>\n",
       "<style scoped>\n",
       "    .dataframe tbody tr th:only-of-type {\n",
       "        vertical-align: middle;\n",
       "    }\n",
       "\n",
       "    .dataframe tbody tr th {\n",
       "        vertical-align: top;\n",
       "    }\n",
       "\n",
       "    .dataframe thead th {\n",
       "        text-align: right;\n",
       "    }\n",
       "</style>\n",
       "<table border=\"1\" class=\"dataframe\">\n",
       "  <thead>\n",
       "    <tr style=\"text-align: right;\">\n",
       "      <th></th>\n",
       "      <th>id</th>\n",
       "      <th>conversation_id</th>\n",
       "      <th>created_at</th>\n",
       "      <th>date</th>\n",
       "      <th>time</th>\n",
       "      <th>timezone</th>\n",
       "      <th>user_id</th>\n",
       "      <th>username</th>\n",
       "      <th>name</th>\n",
       "      <th>place</th>\n",
       "      <th>...</th>\n",
       "      <th>geo</th>\n",
       "      <th>source</th>\n",
       "      <th>user_rt_id</th>\n",
       "      <th>user_rt</th>\n",
       "      <th>retweet_id</th>\n",
       "      <th>reply_to</th>\n",
       "      <th>retweet_date</th>\n",
       "      <th>translate</th>\n",
       "      <th>trans_src</th>\n",
       "      <th>trans_dest</th>\n",
       "    </tr>\n",
       "  </thead>\n",
       "  <tbody>\n",
       "    <tr>\n",
       "      <th>0</th>\n",
       "      <td>1406335989484822531</td>\n",
       "      <td>1406335989484822531</td>\n",
       "      <td>2021-06-20 01:10:03 IST</td>\n",
       "      <td>2021-06-20</td>\n",
       "      <td>01:10:03</td>\n",
       "      <td>530</td>\n",
       "      <td>16264836</td>\n",
       "      <td>apress</td>\n",
       "      <td>Apress</td>\n",
       "      <td>NaN</td>\n",
       "      <td>...</td>\n",
       "      <td>NaN</td>\n",
       "      <td>NaN</td>\n",
       "      <td>NaN</td>\n",
       "      <td>NaN</td>\n",
       "      <td>NaN</td>\n",
       "      <td>[]</td>\n",
       "      <td>NaN</td>\n",
       "      <td>NaN</td>\n",
       "      <td>NaN</td>\n",
       "      <td>NaN</td>\n",
       "    </tr>\n",
       "    <tr>\n",
       "      <th>1</th>\n",
       "      <td>1406292636789526537</td>\n",
       "      <td>1406292636789526537</td>\n",
       "      <td>2021-06-19 22:17:46 IST</td>\n",
       "      <td>2021-06-19</td>\n",
       "      <td>22:17:46</td>\n",
       "      <td>530</td>\n",
       "      <td>17818254</td>\n",
       "      <td>careersherpa</td>\n",
       "      <td>Hannah Morgan</td>\n",
       "      <td>NaN</td>\n",
       "      <td>...</td>\n",
       "      <td>NaN</td>\n",
       "      <td>NaN</td>\n",
       "      <td>NaN</td>\n",
       "      <td>NaN</td>\n",
       "      <td>NaN</td>\n",
       "      <td>[]</td>\n",
       "      <td>NaN</td>\n",
       "      <td>NaN</td>\n",
       "      <td>NaN</td>\n",
       "      <td>NaN</td>\n",
       "    </tr>\n",
       "    <tr>\n",
       "      <th>2</th>\n",
       "      <td>1406082288035811330</td>\n",
       "      <td>1406082288035811330</td>\n",
       "      <td>2021-06-19 08:21:55 IST</td>\n",
       "      <td>2021-06-19</td>\n",
       "      <td>08:21:55</td>\n",
       "      <td>530</td>\n",
       "      <td>15808647</td>\n",
       "      <td>techreview</td>\n",
       "      <td>MIT Technology Review</td>\n",
       "      <td>NaN</td>\n",
       "      <td>...</td>\n",
       "      <td>NaN</td>\n",
       "      <td>NaN</td>\n",
       "      <td>NaN</td>\n",
       "      <td>NaN</td>\n",
       "      <td>NaN</td>\n",
       "      <td>[]</td>\n",
       "      <td>NaN</td>\n",
       "      <td>NaN</td>\n",
       "      <td>NaN</td>\n",
       "      <td>NaN</td>\n",
       "    </tr>\n",
       "    <tr>\n",
       "      <th>3</th>\n",
       "      <td>1405948260796100610</td>\n",
       "      <td>1405948260796100610</td>\n",
       "      <td>2021-06-18 23:29:21 IST</td>\n",
       "      <td>2021-06-18</td>\n",
       "      <td>23:29:21</td>\n",
       "      <td>530</td>\n",
       "      <td>366154590</td>\n",
       "      <td>gurmanbhatia</td>\n",
       "      <td>Gurman Bhatia</td>\n",
       "      <td>NaN</td>\n",
       "      <td>...</td>\n",
       "      <td>NaN</td>\n",
       "      <td>NaN</td>\n",
       "      <td>NaN</td>\n",
       "      <td>NaN</td>\n",
       "      <td>NaN</td>\n",
       "      <td>[]</td>\n",
       "      <td>NaN</td>\n",
       "      <td>NaN</td>\n",
       "      <td>NaN</td>\n",
       "      <td>NaN</td>\n",
       "    </tr>\n",
       "    <tr>\n",
       "      <th>4</th>\n",
       "      <td>1405942146960613376</td>\n",
       "      <td>1405942146960613376</td>\n",
       "      <td>2021-06-18 23:05:03 IST</td>\n",
       "      <td>2021-06-18</td>\n",
       "      <td>23:05:03</td>\n",
       "      <td>530</td>\n",
       "      <td>239971233</td>\n",
       "      <td>cdcinjury</td>\n",
       "      <td>CDC Injury Center</td>\n",
       "      <td>NaN</td>\n",
       "      <td>...</td>\n",
       "      <td>NaN</td>\n",
       "      <td>NaN</td>\n",
       "      <td>NaN</td>\n",
       "      <td>NaN</td>\n",
       "      <td>NaN</td>\n",
       "      <td>[]</td>\n",
       "      <td>NaN</td>\n",
       "      <td>NaN</td>\n",
       "      <td>NaN</td>\n",
       "      <td>NaN</td>\n",
       "    </tr>\n",
       "  </tbody>\n",
       "</table>\n",
       "<p>5 rows × 36 columns</p>\n",
       "</div>"
      ],
      "text/plain": [
       "                    id      conversation_id               created_at  \\\n",
       "0  1406335989484822531  1406335989484822531  2021-06-20 01:10:03 IST   \n",
       "1  1406292636789526537  1406292636789526537  2021-06-19 22:17:46 IST   \n",
       "2  1406082288035811330  1406082288035811330  2021-06-19 08:21:55 IST   \n",
       "3  1405948260796100610  1405948260796100610  2021-06-18 23:29:21 IST   \n",
       "4  1405942146960613376  1405942146960613376  2021-06-18 23:05:03 IST   \n",
       "\n",
       "         date      time  timezone    user_id      username  \\\n",
       "0  2021-06-20  01:10:03       530   16264836        apress   \n",
       "1  2021-06-19  22:17:46       530   17818254  careersherpa   \n",
       "2  2021-06-19  08:21:55       530   15808647    techreview   \n",
       "3  2021-06-18  23:29:21       530  366154590  gurmanbhatia   \n",
       "4  2021-06-18  23:05:03       530  239971233     cdcinjury   \n",
       "\n",
       "                    name place  ... geo source user_rt_id user_rt retweet_id  \\\n",
       "0                 Apress   NaN  ... NaN    NaN        NaN     NaN        NaN   \n",
       "1          Hannah Morgan   NaN  ... NaN    NaN        NaN     NaN        NaN   \n",
       "2  MIT Technology Review   NaN  ... NaN    NaN        NaN     NaN        NaN   \n",
       "3          Gurman Bhatia   NaN  ... NaN    NaN        NaN     NaN        NaN   \n",
       "4      CDC Injury Center   NaN  ... NaN    NaN        NaN     NaN        NaN   \n",
       "\n",
       "   reply_to  retweet_date  translate trans_src trans_dest  \n",
       "0        []           NaN        NaN       NaN        NaN  \n",
       "1        []           NaN        NaN       NaN        NaN  \n",
       "2        []           NaN        NaN       NaN        NaN  \n",
       "3        []           NaN        NaN       NaN        NaN  \n",
       "4        []           NaN        NaN       NaN        NaN  \n",
       "\n",
       "[5 rows x 36 columns]"
      ]
     },
     "execution_count": 7,
     "metadata": {},
     "output_type": "execute_result"
    }
   ],
   "source": [
    "df.head()"
   ]
  },
  {
   "cell_type": "code",
   "execution_count": 9,
   "id": "28cd2550-016b-4ff2-90e2-f6256c7c42b0",
   "metadata": {},
   "outputs": [
    {
     "name": "stdout",
     "output_type": "stream",
     "text": [
      "<class 'pandas.core.frame.DataFrame'>\n",
      "RangeIndex: 33590 entries, 0 to 33589\n",
      "Data columns (total 36 columns):\n",
      " #   Column           Non-Null Count  Dtype  \n",
      "---  ------           --------------  -----  \n",
      " 0   id               33590 non-null  int64  \n",
      " 1   conversation_id  33590 non-null  int64  \n",
      " 2   created_at       33590 non-null  object \n",
      " 3   date             33590 non-null  object \n",
      " 4   time             33590 non-null  object \n",
      " 5   timezone         33590 non-null  int64  \n",
      " 6   user_id          33590 non-null  int64  \n",
      " 7   username         33590 non-null  object \n",
      " 8   name             33590 non-null  object \n",
      " 9   place            85 non-null     object \n",
      " 10  tweet            33590 non-null  object \n",
      " 11  language         33590 non-null  object \n",
      " 12  mentions         33590 non-null  object \n",
      " 13  urls             33590 non-null  object \n",
      " 14  photos           33590 non-null  object \n",
      " 15  replies_count    33590 non-null  int64  \n",
      " 16  retweets_count   33590 non-null  int64  \n",
      " 17  likes_count      33590 non-null  int64  \n",
      " 18  hashtags         33590 non-null  object \n",
      " 19  cashtags         33590 non-null  object \n",
      " 20  link             33590 non-null  object \n",
      " 21  retweet          33590 non-null  bool   \n",
      " 22  quote_url        1241 non-null   object \n",
      " 23  video            33590 non-null  int64  \n",
      " 24  thumbnail        9473 non-null   object \n",
      " 25  near             0 non-null      float64\n",
      " 26  geo              0 non-null      float64\n",
      " 27  source           0 non-null      float64\n",
      " 28  user_rt_id       0 non-null      float64\n",
      " 29  user_rt          0 non-null      float64\n",
      " 30  retweet_id       0 non-null      float64\n",
      " 31  reply_to         33590 non-null  object \n",
      " 32  retweet_date     0 non-null      float64\n",
      " 33  translate        0 non-null      float64\n",
      " 34  trans_src        0 non-null      float64\n",
      " 35  trans_dest       0 non-null      float64\n",
      "dtypes: bool(1), float64(10), int64(8), object(17)\n",
      "memory usage: 9.0+ MB\n"
     ]
    }
   ],
   "source": [
    "df.info()"
   ]
  },
  {
   "cell_type": "code",
   "execution_count": 11,
   "id": "d228b311-ecbb-4ef6-877b-aac0948f27be",
   "metadata": {},
   "outputs": [
    {
     "data": {
      "text/plain": [
       "id                     0\n",
       "conversation_id        0\n",
       "created_at             0\n",
       "date                   0\n",
       "time                   0\n",
       "timezone               0\n",
       "user_id                0\n",
       "username               0\n",
       "name                   0\n",
       "place              33505\n",
       "tweet                  0\n",
       "language               0\n",
       "mentions               0\n",
       "urls                   0\n",
       "photos                 0\n",
       "replies_count          0\n",
       "retweets_count         0\n",
       "likes_count            0\n",
       "hashtags               0\n",
       "cashtags               0\n",
       "link                   0\n",
       "retweet                0\n",
       "quote_url          32349\n",
       "video                  0\n",
       "thumbnail          24117\n",
       "near               33590\n",
       "geo                33590\n",
       "source             33590\n",
       "user_rt_id         33590\n",
       "user_rt            33590\n",
       "retweet_id         33590\n",
       "reply_to               0\n",
       "retweet_date       33590\n",
       "translate          33590\n",
       "trans_src          33590\n",
       "trans_dest         33590\n",
       "dtype: int64"
      ]
     },
     "execution_count": 11,
     "metadata": {},
     "output_type": "execute_result"
    }
   ],
   "source": [
    "df.isnull().sum()"
   ]
  },
  {
   "cell_type": "code",
   "execution_count": 13,
   "id": "c1595775-6127-4da2-8990-f456a72dd0f7",
   "metadata": {},
   "outputs": [
    {
     "data": {
      "text/plain": [
       "'We are pleased to invite you to the EDHEC DataViz Challenge grand final for a virtual exchange with all Top 10 finalists to see how data visualization creates impact and can bring out compelling stories in support of @UNICEF’s mission.  https://t.co/Vbj9B48VjV'"
      ]
     },
     "execution_count": 13,
     "metadata": {},
     "output_type": "execute_result"
    }
   ],
   "source": [
    "df['tweet'][10]"
   ]
  },
  {
   "cell_type": "code",
   "execution_count": 23,
   "id": "deee286c-cba5-45d1-9c31-27905588e391",
   "metadata": {},
   "outputs": [
    {
     "name": "stderr",
     "output_type": "stream",
     "text": [
      "[nltk_data] Downloading package vader_lexicon to\n",
      "[nltk_data]     C:\\Users\\ishan\\AppData\\Roaming\\nltk_data...\n",
      "[nltk_data]   Package vader_lexicon is already up-to-date!\n"
     ]
    }
   ],
   "source": [
    "import nltk \n",
    "from nltk.corpus import words \n",
    "nltk.download('vader_lexicon') \n",
    "from nltk.sentiment.vader import SentimentIntensityAnalyzer \n",
    "sid = SentimentIntensityAnalyzer() \n",
    "import re \n",
    "import nltk \n"
   ]
  },
  {
   "cell_type": "code",
   "execution_count": 25,
   "id": "f84ca2fd-53ef-4324-8ec6-013b426ecda1",
   "metadata": {},
   "outputs": [
    {
     "name": "stderr",
     "output_type": "stream",
     "text": [
      "[nltk_data] Downloading package words to\n",
      "[nltk_data]     C:\\Users\\ishan\\AppData\\Roaming\\nltk_data...\n",
      "[nltk_data]   Package words is already up-to-date!\n"
     ]
    }
   ],
   "source": [
    "nltk.download('words') \n",
    "words = set(nltk.corpus.words.words()) "
   ]
  },
  {
   "cell_type": "code",
   "execution_count": 27,
   "id": "df515845-ae2e-467c-8506-283e9a4fa8a2",
   "metadata": {},
   "outputs": [
    {
     "data": {
      "text/plain": [
       "<nltk.sentiment.vader.SentimentIntensityAnalyzer at 0x21d2a138950>"
      ]
     },
     "execution_count": 27,
     "metadata": {},
     "output_type": "execute_result"
    }
   ],
   "source": [
    "sid"
   ]
  },
  {
   "cell_type": "code",
   "execution_count": 29,
   "id": "7fcaa439-873c-45a6-852e-8036582a2be9",
   "metadata": {},
   "outputs": [
    {
     "data": {
      "text/plain": [
       "0.7089"
      ]
     },
     "execution_count": 29,
     "metadata": {},
     "output_type": "execute_result"
    }
   ],
   "source": [
    "sentence = df['tweet'][0] \n",
    "sid.polarity_scores(sentence)['compound'] "
   ]
  },
  {
   "cell_type": "code",
   "execution_count": 31,
   "id": "01893ad2-edd1-43d7-85a1-1a752d034a20",
   "metadata": {},
   "outputs": [],
   "source": [
    "import nltk \n",
    "from nltk.corpus import words "
   ]
  },
  {
   "cell_type": "code",
   "execution_count": 37,
   "id": "62f1ea59-63d5-443a-ad10-4d0e9189abaa",
   "metadata": {},
   "outputs": [],
   "source": [
    "word_list = set(words.words()) \n",
    "def cleaner(tweet): \n",
    "    tweet = re.sub(\"@[A-Za-z0-9]+\", \"\", tweet)  # Remove @ mentions \n",
    "    tweet = re.sub(r\"(?:\\@|http?\\://|https?\\://|www)\\S+\", \"\", tweet)  # Remo \n",
    "    tweet = \" \".join(tweet.split())  # Remove extra spaces \n",
    "    tweet = tweet.replace(\"#\", \"\").replace(\"_\", \" \")  # Remove hashtags and \n",
    "    tweet = \" \".join( \n",
    "        w for w in nltk.wordpunct_tokenize(tweet) \n",
    "        if w.lower() in word_list or not w.isalpha() \n",
    "    ) \n",
    "    return tweet \n",
    " \n",
    "df['tweet_clean'] = df['tweet'].apply(cleaner) "
   ]
  },
  {
   "cell_type": "code",
   "execution_count": 39,
   "id": "ec945af3-de00-4671-ac96-d4fe40ac2ae2",
   "metadata": {},
   "outputs": [],
   "source": [
    "# Define custom sentiment dictionary \n",
    "word_dict = { \n",
    "    'manipulate': -1, \n",
    "    'manipulative': -1, \n",
    "    'jamescharlesiscancelled': -1, \n",
    "    'jamescharlesisoverparty': -1, \n",
    "    'pedophile': -1, \n",
    "    'pedo': -1, \n",
    "    'cancel': -1, \n",
    "    'cancelled': -1, \n",
    "    'cancel culture': 0.4, \n",
    "    'teamtati': -1,\n",
    "    'teamjames': 1, \n",
    "    'teamjamescharles': 1, \n",
    "    'liar': -1 \n",
    "} \n",
    " \n",
    "# Initialize the analyzer and update the lexicon \n",
    "sid = SentimentIntensityAnalyzer() \n",
    "sid.lexicon.update(word_dict) \n",
    " \n",
    "# Apply compound score to cleaned tweets \n",
    "list1 = [] \n",
    "for i in df['tweet_clean']: \n",
    "    score = sid.polarity_scores(str(i))['compound'] \n",
    "    list1.append(score) \n",
    " \n",
    "# store the results in a new column \n",
    "df['sentiment_score'] = list1 "
   ]
  },
  {
   "cell_type": "code",
   "execution_count": null,
   "id": "cf0e2096-a1f1-4348-8c0b-c17ad517a790",
   "metadata": {},
   "outputs": [],
   "source": []
  }
 ],
 "metadata": {
  "kernelspec": {
   "display_name": "Python [conda env:base] *",
   "language": "python",
   "name": "conda-base-py"
  },
  "language_info": {
   "codemirror_mode": {
    "name": "ipython",
    "version": 3
   },
   "file_extension": ".py",
   "mimetype": "text/x-python",
   "name": "python",
   "nbconvert_exporter": "python",
   "pygments_lexer": "ipython3",
   "version": "3.12.7"
  }
 },
 "nbformat": 4,
 "nbformat_minor": 5
}
